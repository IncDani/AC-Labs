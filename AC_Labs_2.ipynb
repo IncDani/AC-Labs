{
  "nbformat": 4,
  "nbformat_minor": 0,
  "metadata": {
    "colab": {
      "name": "AC Labs 2.ipynb",
      "provenance": [],
      "collapsed_sections": []
    },
    "kernelspec": {
      "name": "python3",
      "display_name": "Python 3"
    }
  },
  "cells": [
    {
      "cell_type": "code",
      "metadata": {
        "id": "CcaG8ZT99M-i",
        "colab_type": "code",
        "colab": {}
      },
      "source": [
        "import matplotlib.pyplot as plt \n",
        "import math \n",
        "\n",
        "plt.rcParams['figure.figsize'] = [18, 9]\n",
        "plt.rcParams['axes.labelsize'] = 18\n",
        "plt.rcParams['axes.labelcolor'] = 'w'\n",
        "plt.rcParams['axes.titlecolor'] = 'w'\n",
        "plt.rcParams['axes.titlesize'] = 20 \n",
        "plt.rcParams['legend.fontsize'] = 18"
      ],
      "execution_count": 191,
      "outputs": []
    },
    {
      "cell_type": "code",
      "metadata": {
        "id": "-v8r9GM7Z2Za",
        "colab_type": "code",
        "colab": {}
      },
      "source": [
        "from keras.datasets import mnist\n",
        "from keras.models import Model\n",
        "from keras.layers import Dense, Dropout, Input\n",
        "from keras.utils import np_utils, plot_model\n",
        "\n",
        "import numpy as np \n",
        "np.set_printoptions(suppress=True)"
      ],
      "execution_count": 193,
      "outputs": []
    },
    {
      "cell_type": "code",
      "metadata": {
        "id": "0Rnl-jwSaMlw",
        "colab_type": "code",
        "colab": {}
      },
      "source": [
        "### Mnist dataset containing images of handwritten digits ###\n",
        "\n",
        "(X_train, y_train), (X_test, y_test) = mnist.load_data()   # Dataset loading and partitioning it into train and test sets\n",
        "\n",
        "print('X_train original shape: ', X_train.shape)  \n",
        "print('y_train original shape: ', y_train.shape)\n",
        "\n",
        "print('X_test original shape: ', X_test.shape)  \n",
        "print('y_test original shape: ', y_test.shape)\n",
        "\n",
        "print('\\nX sample:\\n', X_train[8]) # Visualize one random sample\n",
        "print('\\nY sample:', y_train[8])   # Visualize the coresponding label"
      ],
      "execution_count": null,
      "outputs": []
    },
    {
      "cell_type": "code",
      "metadata": {
        "id": "3qpHrBs5a1HZ",
        "colab_type": "code",
        "colab": {}
      },
      "source": [
        "### Look over a few samples of the dataset ###\n",
        "sample_number = 9\n",
        "\n",
        "# Parse the first 9 samples and plot them\n",
        "for index, (image, label) in enumerate(zip(X_train[:sample_number], y_train[:sample_number])): \n",
        "    plt.subplot(3, 3, index+1)          # Create plot\n",
        "    plt.imshow(image, cmap='gray')      # Add images to the plot\n",
        "    plt.title('Class {}'.format(label)) # Write class of each image"
      ],
      "execution_count": null,
      "outputs": []
    },
    {
      "cell_type": "code",
      "metadata": {
        "id": "7Eaa1bHZdNDJ",
        "colab_type": "code",
        "colab": {}
      },
      "source": [
        "### Image preprocessing ###\n",
        "\n",
        "# Flatten the data to fit into the network (Renounce to the last dimension representing the columns)\n",
        "X_train = X_train.reshape(60000, 784)   # 28 x 28 = 784\n",
        "X_test = X_test.reshape(10000, 784)\n",
        "\n",
        "X_train = X_train.astype('float32') # Convert from int to float for data \n",
        "X_test = X_test.astype('float32')\n",
        "\n",
        "X_train /= 255  # Normalize the data from interval [0, 255] to [0, 1]\n",
        "X_test /= 255"
      ],
      "execution_count": 196,
      "outputs": []
    },
    {
      "cell_type": "code",
      "metadata": {
        "id": "vjK2Oz1Sd6R2",
        "colab_type": "code",
        "colab": {}
      },
      "source": [
        "### Label preprocessing ###\n",
        "\n",
        "classes_no = 10     # 10 classes: 0-9\n",
        "\n",
        "Y_train = np_utils.to_categorical(y_train, classes_no) # One-hot encoding of training labels\n",
        "Y_test = np_utils.to_categorical(y_test, classes_no) # One-hot encoding of testing labels\n",
        "print('Y sample encoding: Number {} -> Array {}'.format(y_train[8], Y_train[8]))"
      ],
      "execution_count": null,
      "outputs": []
    },
    {
      "cell_type": "code",
      "metadata": {
        "id": "xfp_jm0fNmQB",
        "colab_type": "code",
        "colab": {}
      },
      "source": [
        "def network():\n",
        "    inputs = Input(shape=(784,))                        # Input layer - placeholder for data: shows how the input data should look like\n",
        "    x = Dense(units=512, activation='relu')(inputs)     # Dense layer - takes as input the output of previous layer\n",
        "                                                        # Dense means that each unit (neuron) on this layer is connected to each unit of the previous and next layers \n",
        "    # x = Dropout(rate=0.3)(x)                          # Dropout deactivates a part of the connections between units of two layers, randomly, on each epoch during training\n",
        "                                                        # Helps at preventing overfitting\n",
        "    x = Dense(units=512, activation='relu')(x)\n",
        "    # x = Dropout(rate=0.3)(x)\n",
        "    x = Dense(units=10, activation='softmax')(x)        # Softmax activation function is usually used in the case of multi-class classification problems\n",
        "                                                        # It takes as input a vector of n real numbers and normalizez it into a probability distribution\n",
        "                                                        # consisting of n probabilities\n",
        "    outputs = x\n",
        "    return Model(inputs, outputs)                       # Construct the model\n",
        "\n",
        "model = network()\n",
        "plot_model(model, show_shapes=True)"
      ],
      "execution_count": null,
      "outputs": []
    },
    {
      "cell_type": "code",
      "metadata": {
        "id": "Qb9gudTVSICB",
        "colab_type": "code",
        "colab": {}
      },
      "source": [
        "# Configuration step - setting the loss, optimizer and metrics to use during training step\n",
        "model.compile(loss='categorical_crossentropy', optimizer='adam', metrics=['accuracy'])"
      ],
      "execution_count": 186,
      "outputs": []
    },
    {
      "cell_type": "code",
      "metadata": {
        "id": "U81mfQ_TSSFA",
        "colab_type": "code",
        "colab": {}
      },
      "source": [
        "# Number of epochs to train the model\n",
        "epochs = 10\n",
        "\n",
        "# Batch size represents the number of images that passes through the network at once\n",
        "batch_size = 256 \n",
        "\n",
        "history = model.fit(x = X_train,\n",
        "                    y = Y_train,\n",
        "                    batch_size = batch_size,\n",
        "                    epochs = epochs,\n",
        "                    validation_split=0.2,   # Split training data into training and validation\n",
        "                                            # Validation is an extra step added to the training \n",
        "                                            # which helps seeing if the network can generalize to unseen data\n",
        "                    verbose = 1)"
      ],
      "execution_count": null,
      "outputs": []
    },
    {
      "cell_type": "code",
      "metadata": {
        "id": "Se3j47vAVOsC",
        "colab_type": "code",
        "colab": {}
      },
      "source": [
        "### Plot training and validation metrics ###\n",
        "\n",
        "acc = history.history['accuracy']\n",
        "val_acc = history.history['val_accuracy']\n",
        "loss = history.history['loss']\n",
        "val_loss = history.history['val_loss']\n",
        "\n",
        "plt.plot(acc, 'bo', label='Training accuracy')\n",
        "plt.plot(val_acc, 'b', label='Validation accuracy')\n",
        "plt.title('Training and validation accuracy')\n",
        "plt.legend()\n",
        "plt.figure()\n",
        "plt.plot(loss, 'bo', label='Training loss')\n",
        "plt.plot(val_loss, 'b', label='Validation loss')\n",
        "plt.title('Training and validation loss')\n",
        "plt.legend()\n",
        "plt.show()"
      ],
      "execution_count": null,
      "outputs": []
    },
    {
      "cell_type": "code",
      "metadata": {
        "id": "uk9fBfv4_cfK",
        "colab_type": "code",
        "colab": {}
      },
      "source": [
        "score = model.evaluate(X_test, Y_test) # Evaluate model by using the test dataset\n",
        "                                       # Test dataset contains data that the network has never seen before\n",
        "\n",
        "print('Test loss: {:.3f}'.format(score[0])) # Visualize real loss score\n",
        "print('Test accuracy: {:.3f}'.format(score[1])) # Visualize real accuracy"
      ],
      "execution_count": null,
      "outputs": []
    },
    {
      "cell_type": "code",
      "metadata": {
        "id": "GpL2OoiGmAt3",
        "colab_type": "code",
        "colab": {}
      },
      "source": [
        "predictions = model.predict(X_test) # Predict o test images\n",
        "\n",
        "# Visualize prediction for the first image\n",
        "for number, prediction in enumerate(predictions[0]):\n",
        "    print('Number {} : {:.8f} %'.format(number, prediction * 100))\n",
        "\n",
        "# Select the highest probability from the prediction vector for each image\n",
        "predicted_classes = np.argmax(predictions, axis=1)\n",
        "\n",
        "print('Predicted class -> {}'.format(predicted_classes[0]))\n",
        "\n",
        "# Check which items we got right / wrong\n",
        "correct_indices = np.nonzero(predicted_classes == y_test)[0]\n",
        "incorrect_indices = np.nonzero(predicted_classes != y_test)[0]\n"
      ],
      "execution_count": null,
      "outputs": []
    },
    {
      "cell_type": "code",
      "metadata": {
        "id": "94FLpHW-mFAN",
        "colab_type": "code",
        "colab": {}
      },
      "source": [
        "# Plot a few good predictions of the network\n",
        "\n",
        "plt.figure()\n",
        "for i, correct in enumerate(correct_indices[:9]):\n",
        "    plt.subplot(3,3,i+1)\n",
        "    plt.imshow(X_test[correct].reshape(28,28), cmap='gray', interpolation='none')\n",
        "    plt.title(\"Predicted {}, Class {}\".format(predicted_classes[correct], y_test[correct]))"
      ],
      "execution_count": null,
      "outputs": []
    },
    {
      "cell_type": "code",
      "metadata": {
        "id": "OHLKCq-ZmqNx",
        "colab_type": "code",
        "colab": {}
      },
      "source": [
        "# Plot a few bad predictions of the network\n",
        "\n",
        "plt.figure()\n",
        "for i, incorrzect in enumerate(incorrect_indices[:9]):\n",
        "    plt.subplot(3,3,i+1)\n",
        "    plt.imshow(X_test[incorrect].reshape(28,28), cmap='gray', interpolation='none')\n",
        "    plt.title(\"Predicted {}, Class {}\".format(predicted_classes[incorrect], y_test[incorrect]))"
      ],
      "execution_count": null,
      "outputs": []
    }
  ]
}